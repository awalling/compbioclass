{
 "cells": [
  {
   "cell_type": "code",
   "execution_count": 1,
   "metadata": {},
   "outputs": [
    {
     "name": "stderr",
     "output_type": "stream",
     "text": [
      "Matplotlib is building the font cache; this may take a moment.\n"
     ]
    }
   ],
   "source": [
    "import numpy as np\n",
    "import scipy\n",
    "from six import iteritems\n",
    "from bin.Loader import Loader\n",
    "from bin.Feature import Feature\n",
    "from matplotlib import pyplot as plt\n",
    "\n",
    "from sklearn.svm import SVC\n",
    "\n",
    "%matplotlib inline"
   ]
  },
  {
   "cell_type": "markdown",
   "metadata": {},
   "source": [
    "# Set up the dataset"
   ]
  },
  {
   "cell_type": "code",
   "execution_count": 2,
   "metadata": {
    "scrolled": false
   },
   "outputs": [
    {
     "name": "stdout",
     "output_type": "stream",
     "text": [
      "7157 \n",
      "\n"
     ]
    }
   ],
   "source": [
    "# Load the viral and GTA fasta files \n",
    "gta_file = \"data/training/gta/3_gta.faa\"\n",
    "viral_file = \"data/training/viral/3_viral.faa\"\n",
    "gta_profs = Loader.load(gta_file, \"GTA\")\n",
    "viral_profs = Loader.load(viral_file, \"virus\")\n",
    "\n",
    "kmer_size = 3\n",
    "PSE_WEIGHT = 0.05\n",
    "LAM = 3\n",
    "PSEAAC = True\n",
    "PHYSICOCHEM = True\n",
    "\n",
    "# make kmer features \n",
    "features = Feature(gta_profs.profiles+viral_profs.profiles)\n",
    "features.make_kmer_dict(kmer_size);\n",
    "features.kmer_feat()\n",
    "\n",
    "# make pseudo amino acid composition features \n",
    "if PSEAAC:\n",
    "    print(len(features.profiles[1].features), \"\\n\")\n",
    "    features.pseaac(lam=LAM, weight=PSE_WEIGHT)\n",
    "    #print(len(features.profiles[1].features), \"\\n\")\n",
    "\n",
    "# make physico-chemical properties features \n",
    "if PHYSICOCHEM:\n",
    "    features.physicochem()\n",
    "    #print(len(features.profiles[1].features), \"\\n\")"
   ]
  },
  {
   "cell_type": "code",
   "execution_count": 3,
   "metadata": {},
   "outputs": [
    {
     "name": "stdout",
     "output_type": "stream",
     "text": [
      "(834, 7199) (834,)\n"
     ]
    }
   ],
   "source": [
    "# put together the final training dataset\n",
    "num_to_label_dict = {-1:\"GTA\", 1:\"virus\"}\n",
    "label_to_num_dict = {v:k for k,v in iteritems(num_to_label_dict)}\n",
    "xs, ys = [], []\n",
    "profiles = gta_profs.profiles + viral_profs.profiles\n",
    "for i, profile in enumerate(profiles):\n",
    "    xs.append(profile.features)\n",
    "    ys.append(label_to_num_dict[profile.label])\n",
    "Xtrain = np.array(xs)\n",
    "Ytrain = np.array(ys).astype(Xtrain.dtype)\n",
    "print(Xtrain.shape, Ytrain.shape)"
   ]
  },
  {
   "cell_type": "code",
   "execution_count": 4,
   "metadata": {},
   "outputs": [],
   "source": [
    "### set up the test dataset \n",
    "test_file = \"example_run/g3_example.faa\"\n",
    "test_profs = Loader.load(test_file)\n",
    "features.kmer_feat(test_profs)\n",
    "if PSEAAC:\n",
    "    features.pseaac(lam=LAM, weight=PSE_WEIGHT, profiles=test_profs)\n",
    "if PHYSICOCHEM:\n",
    "    features.physicochem(profiles=test_profs)"
   ]
  },
  {
   "cell_type": "code",
   "execution_count": 5,
   "metadata": {},
   "outputs": [
    {
     "name": "stdout",
     "output_type": "stream",
     "text": [
      "(5, 7199)\n"
     ]
    }
   ],
   "source": [
    "xs = []\n",
    "for profile in test_profs:\n",
    "    xs.append(profile.features)\n",
    "Xtest = np.array(xs)\n",
    "print(Xtest.shape)"
   ]
  },
  {
   "cell_type": "markdown",
   "metadata": {},
   "source": [
    "# Train SVM classifier \n"
   ]
  },
  {
   "cell_type": "code",
   "execution_count": 6,
   "metadata": {},
   "outputs": [],
   "source": [
    "# SV classifier with linear kernel\n",
    "linear_sv_clf = SVC(C=10000, kernel='linear')\n",
    "linear_sv_clf.fit(Xtrain, Ytrain);\n",
    "\n",
    "# SV classifier with RBF kernel \n",
    "rbf_sv_clf = SVC(C=10000, kernel='rbf')\n",
    "rbf_sv_clf.fit(Xtrain, Ytrain);"
   ]
  },
  {
   "cell_type": "code",
   "execution_count": 7,
   "metadata": {},
   "outputs": [
    {
     "name": "stdout",
     "output_type": "stream",
     "text": [
      "['GTA', 'GTA', 'virus', 'virus', 'virus']\n"
     ]
    }
   ],
   "source": [
    "print([num_to_label_dict[i] for i in linear_sv_clf.predict(Xtest)])"
   ]
  },
  {
   "cell_type": "code",
   "execution_count": 8,
   "metadata": {},
   "outputs": [
    {
     "name": "stdout",
     "output_type": "stream",
     "text": [
      "['GTA', 'GTA', 'virus', 'virus', 'virus']\n"
     ]
    }
   ],
   "source": [
    "print([num_to_label_dict[i] for i in linear_sv_clf.predict(Xtest)])"
   ]
  },
  {
   "cell_type": "markdown",
   "metadata": {},
   "source": [
    "Set upRandom Forest classifier"
   ]
  },
  {
   "cell_type": "code",
   "execution_count": 9,
   "metadata": {},
   "outputs": [
    {
     "name": "stdout",
     "output_type": "stream",
     "text": [
      "Accuracy: 0.999 Stdev(0.003)\n"
     ]
    }
   ],
   "source": [
    "#evaluate random forest algorithm for classification\n",
    "\n",
    "from numpy import mean\n",
    "from numpy import std\n",
    "from numpy import arange\n",
    "\n",
    "from sklearn.model_selection import cross_val_score\n",
    "from sklearn.model_selection import RepeatedStratifiedKFold\n",
    "from sklearn.ensemble import RandomForestClassifier\n",
    "\n",
    "#define the model\n",
    "model = RandomForestClassifier()\n",
    "\n",
    "#evaluate the model\n",
    "\n",
    "cv = RepeatedStratifiedKFold(n_splits=10, n_repeats=3, random_state=1)\n",
    "n_scores = cross_val_score(model, Xtrain, Ytrain, scoring='accuracy', cv=cv, n_jobs=-1, error_score='raise')\n",
    "\n",
    "#report performance\n",
    "print('Accuracy: %.3f Stdev(%.3f)' % (mean(n_scores), std(n_scores)))"
   ]
  },
  {
   "cell_type": "code",
   "execution_count": 10,
   "metadata": {},
   "outputs": [
    {
     "name": "stdout",
     "output_type": "stream",
     "text": [
      "['GTA', 'GTA', 'virus', 'virus', 'virus']\n"
     ]
    }
   ],
   "source": [
    "model.fit(Xtrain, Ytrain)\n",
    "model.predict(Xtest)\n",
    "print([num_to_label_dict[i] for i in model.predict(Xtest)])"
   ]
  },
  {
   "cell_type": "code",
   "execution_count": null,
   "metadata": {},
   "outputs": [],
   "source": [
    "#explore random forest number of features effect on performance\n",
    "\n",
    "#get a list of models to evaluate\n",
    "def get_models():\n",
    "    models=dict()\n",
    "    #explore number of features from 1 to 7\n",
    "    for i in range(1,25):\n",
    "        models[str(i)] = RandomForestClassifier(max_features=i)\n",
    "    return models\n",
    "\n",
    "#evaluate a given model using cross-validation\n",
    "def evaluate_model(model, X, y):\n",
    "    #define the evaluation procedure\n",
    "    cv = RepeatedStratifiedKFold(n_splits=10, n_repeats=3, random_state=1)\n",
    "    #evaluate the model and collect the results\n",
    "    scores=cross_val_score(model, X, y, scoring='accuracy', cv=cv, n_jobs=-1)\n",
    "    return scores\n",
    "\n",
    "\n",
    "#get the models to evaluate\n",
    "models = get_models()\n",
    "\n",
    "#evaluate the models and store results\n",
    "results, names = list(), list()\n",
    "for name, model in models.items():\n",
    "    #evaluate the model\n",
    "    scores = evaluate_model(model, Xtrain, Ytrain)\n",
    "    #store the results\n",
    "    results.append(scores)\n",
    "    names.append(name)\n",
    "    #summarize the performance along the way\n",
    "    print ('>%s %.3f (%.3f)' % (name, mean(scores), std(scores)))\n",
    "    \n",
    "#plot model performance for comparison\n",
    "\n",
    "bp=plt.boxplot(results, labels=names, showmeans=True)\n",
    "\n",
    "\n",
    "plt.title('Effect of Number of Features on Accuracy')\n",
    "plt.xlabel('Number of Features')\n",
    "plt.ylabel('Accuracy')\n",
    "\n",
    "plt.savefig('features_accuracy.png')"
   ]
  },
  {
   "cell_type": "code",
   "execution_count": null,
   "metadata": {},
   "outputs": [],
   "source": [
    "#explore random forest number of trees effect on performance\n",
    "\n",
    "#get a list of models to evaluate\n",
    "def get_models():\n",
    "    models = dict()\n",
    "    #define number of trees to consider\n",
    "    n_trees = [1,2,3,4,5,6,7,8,9, 10] #, 50, 100, 500, 1000]\n",
    "    for n in n_trees:\n",
    "        models[str(n)] = RandomForestClassifier(n_estimators=n)\n",
    "    return models\n",
    "\n",
    "# evaluate a given model using cross-validation\n",
    "def evaluate_model(model, X, y):\n",
    "    # define the evaluation procedure\n",
    "    cv = RepeatedStratifiedKFold(n_splits=10, n_repeats=3, random_state=1)\n",
    "    # evaluate the model and collect the results\n",
    "    scores = cross_val_score(model, X, y, scoring='accuracy', cv=cv, n_jobs=-1)\n",
    "    return scores\n",
    "\n",
    "\n",
    "#get the models\n",
    "\n",
    "models = get_models()\n",
    "\n",
    "#evaluate the models and store results\n",
    "results, names = list(), list()\n",
    "for name, model in models.items():\n",
    "    #evaluate the model\n",
    "    scores = evaluate_model(model, Xtrain, Ytrain)\n",
    "    \n",
    "    #store the results\n",
    "    results.append(scores)\n",
    "    names.append(name)\n",
    "    \n",
    "    #summarize the performance along the way\n",
    "    print('>%s %.3f  (%.3f)' % (name, mean(scores), std(scores)))\n",
    "    \n",
    "#plot model performance\n",
    "plt.boxplot(results, labels=names, showmeans=True)\n",
    "\n",
    "\n",
    "plt.title('Effect of Number of Trees on Accuracy')\n",
    "plt.xlabel('Number of Trees')\n",
    "plt.ylabel('Accuracy')\n",
    "\n",
    "plt.savefig('numberoftrees_accuracy.png')"
   ]
  },
  {
   "cell_type": "code",
   "execution_count": null,
   "metadata": {},
   "outputs": [],
   "source": [
    "#explore random forest tree depth effect on performance\n",
    "\n",
    "# get a list of models to evaluate\n",
    "def get_models():\n",
    "    models = dict()\n",
    "    # consider tree depths from 1 to 7 and None=full\n",
    "    depths = [i for i in range(1,8)] + [None]\n",
    "    for n in depths:\n",
    "        models[str(n)] = RandomForestClassifier(max_depth=n)\n",
    "    return models\n",
    " \n",
    "# evaluate a given model using cross-validation\n",
    "def evaluate_model(model, X, y):\n",
    "    # define the evaluation procedure\n",
    "    cv = RepeatedStratifiedKFold(n_splits=10, n_repeats=3, random_state=1)\n",
    "    # evaluate the model and collect the results\n",
    "    scores = cross_val_score(model, X, y, scoring='accuracy', cv=cv, n_jobs=-1)\n",
    "    return scores\n",
    " \n",
    "\n",
    "# get the models to evaluate\n",
    "models = get_models()\n",
    "# evaluate the models and store results\n",
    "results, names = list(), list()\n",
    "for name, model in models.items():\n",
    "    # evaluate the model\n",
    "    scores = evaluate_model(model, Xtrain, Ytrain)\n",
    "    # store the results\n",
    "    results.append(scores)\n",
    "    names.append(name)\n",
    "    # summarize the performance along the way\n",
    "    print('>%s %.3f (%.3f)' % (name, mean(scores), std(scores)))\n",
    "# plot model performance for comparison\n",
    "plt.boxplot(results, labels=names, showmeans=True)\n",
    "\n",
    "\n",
    "plt.title('Effect of Tree Depth on Accuracy')\n",
    "plt.xlabel('Tree Depth')\n",
    "plt.ylabel('Accuracy')\n",
    "\n",
    "plt.savefig('treedepth_accuracy.png')"
   ]
  },
  {
   "cell_type": "code",
   "execution_count": 15,
   "metadata": {},
   "outputs": [
    {
     "name": "stdout",
     "output_type": "stream",
     "text": [
      "Mean ROC AUC: 1.000\n"
     ]
    },
    {
     "data": {
      "image/png": "[encoded data removed]",
      "text/plain": [
       "<Figure size 432x288 with 1 Axes>"
      ]
     },
     "metadata": {
      "needs_background": "light"
     },
     "output_type": "display_data"
    }
   ],
   "source": [
    "#putting it together...\n",
    "\n",
    "from sklearn.metrics import plot_roc_curve\n",
    "\n",
    "#define the model\n",
    "model = RandomForestClassifier(max_features=18, n_estimators=50, class_weight='balanced')\n",
    "\n",
    "#evaluate the model\n",
    "\n",
    "cv = RepeatedStratifiedKFold(n_splits=10, n_repeats=3, random_state=1)\n",
    "n_scores = cross_val_score(model, Xtrain, Ytrain, scoring='roc_auc', cv=cv, n_jobs=-1, error_score='raise')\n",
    "\n",
    "model.fit(Xtrain, Ytrain)\n",
    "model.predict(Xtest)\n",
    "\n",
    "plot_roc_curve(model, Xtrain, Ytrain)\n",
    "plt.savefig('ROCAUC.png')\n",
    "#report performance\n",
    "print('Mean ROC AUC: %.3f' % (mean(n_scores)))"
   ]
  },
  {
   "cell_type": "code",
   "execution_count": null,
   "metadata": {},
   "outputs": [],
   "source": []
  },
  {
   "cell_type": "markdown",
   "metadata": {},
   "source": [
    "#BLAST"
   ]
  },
  {
   "cell_type": "code",
   "execution_count": null,
   "metadata": {},
   "outputs": [],
   "source": [
    "#imports\n",
    "import os\n",
    "from Bio.Blast.Applications import NcbiblastpCommandline\n",
    "from Bio.Blast import NCBIXML\n",
    "from Bio import SeqIO\n",
    "import argparse\n",
    "import numpy as np\n",
    "import time\n",
    "import pandas as pd \n",
    "from bin.filter_extract_fasta_ch import extract_fasta\n",
    "from bin.Loader import Loader\n",
    "from bin.Weight import Weight\n",
    "from bin.Feature import Feature\n",
    "from numpy import mean\n",
    "from numpy import std\n",
    "from numpy import arange\n",
    "from six import iteritems\n",
    "\n",
    "from sklearn.model_selection import cross_val_score\n",
    "from sklearn.model_selection import RepeatedStratifiedKFold\n",
    "from sklearn.ensemble import RandomForestClassifier"
   ]
  },
  {
   "cell_type": "code",
   "execution_count": null,
   "metadata": {},
   "outputs": [],
   "source": [
    "def get_dict():\n",
    "    \"\"\"function to create a dictionary with info associated with each gta gene, \n",
    "    so that when there is a blast hit we can identify which gta gene it is a homolog to\"\"\"\n",
    "    folder = \"data/training/gta/\"\n",
    "    folder2 = \"data/training/viral/\"\n",
    "    master_dict = {}\n",
    "    for child in os.listdir(folder):\n",
    "        if child[-3:] == \"faa\":\n",
    "            file = os.path.join(folder,child)\n",
    "            gene = child.split('_')[0]\n",
    "            glist = []\n",
    "            f = open(file)\n",
    "            content = f.readlines()\n",
    "            for line in content:\n",
    "                if line[0] == '>':\n",
    "                    words = line.split()\n",
    "                    ID = words[0][1:]\n",
    "                    glist.append(ID)\n",
    "\n",
    "            master_dict[gene] = glist\n",
    "\n",
    "    for child in os.listdir(folder2):\n",
    "        if child[-3:] == \"faa\":\n",
    "            file = os.path.join(folder2,child)\n",
    "            gene = child.split('_')[0]\n",
    "            f = open(file)\n",
    "            content = f.readlines()\n",
    "            for line in content:\n",
    "                if line[0] == '>':\n",
    "                    words = line.split()\n",
    "                    ID = words[0][1:]\n",
    "                    master_dict[gene].append(ID)\n",
    "\n",
    "    return master_dict\n"
   ]
  },
  {
   "cell_type": "code",
   "execution_count": null,
   "metadata": {},
   "outputs": [],
   "source": [
    "def run_wrapper(querydir, queryname, outdir):\n",
    "\n",
    "\n",
    "    my_dict = get_dict()\n",
    "\n",
    "    query_file= querydir + \"/\" + queryname\n",
    "\n",
    "\n",
    "    out_dir=outdir\n",
    "    \n",
    "    #output file (btab) from the blast against GTA db\n",
    "    blast_out = out_dir +\"/blast\"+queryname + \".out\"\n",
    "    #special blast outformat parameters\n",
    "    outformat = \"6 qseqid sstart send sframe sseqid pident qlen slen length mismatch gapopen qstart qend evalue bitscore\"\n",
    "    #run blast search using database of viral and GTA training set\n",
    "    blastp_cline = NcbiblastpCommandline(query=query_file, db=\"data/GTA_db/GTA_viral\", evalue=0.001, outfmt=outformat, out=blast_out, num_threads=2,dbsize=10000000)\n",
    "    blastp_cline\n",
    "    stdout,stderr = blastp_cline()\n",
    "    result = open(blast_out)\n",
    "    lines = result.readlines()\n",
    "    result.close()\n",
    "    handle_in = open(query_file)\n",
    "    #keep track of which sequences did not have a GTA homolog\n",
    "    no_hit_list = []\n",
    "    for record in SeqIO.parse(handle_in, \"fasta\"):\n",
    "        no_hit_list.append(record.id)\n",
    "    handle_in.close()\n",
    "    \n",
    "    \n",
    "    \n",
    "\n",
    "    #continue if blast search had results\n",
    "    if len(lines) > 0:\n",
    "        #file to store the results of running GTA_Hunter\n",
    "        results_file = out_dir + \"/results\" +queryname+\".out\"\n",
    "\n",
    "        #run script to extract fasta files from blast search\n",
    "        genes_found = extract_fasta(blast_out,query_file,out_dir,my_dict,queryname)\n",
    "        \n",
    "\n",
    "\n",
    "        if len(genes_found) > 0:\n",
    "            results_handle = open(results_file, 'w')\n",
    "            \n",
    "            \n",
    "            # for each GTA gene that had homologs, run GTA Hunter\n",
    "            for gene in genes_found:\n",
    "                \n",
    "                \n",
    "                out_faa = out_dir + \"/gta_homolog_\" +gene+queryname+\".faa\"\n",
    "                \n",
    "                results_handle.write(str(out_faa)+\"\\n\")\n",
    "                \n",
    "                print(out_faa)\n",
    "                \n",
    "            \n",
    "    \n",
    "                #get training files corresponding to the gene identified\n",
    "                gta_file = \"data/training/gta/\" + gene + \"_gta.faa\"\n",
    "                viral_file = \"data/training/viral/\" + gene + \"_viral.faa\"\n",
    "                gta_weight = \"data/training/gta/\" + gene + \"_gta.dist\"\n",
    "                virus_weight = \"data/training/viral/\" + gene + \"_viral.dist\"\n",
    "                \n",
    "                \n",
    "                gta_profs = Loader.load(gta_file, \"GTA\")\n",
    "                viral_profs = Loader.load(viral_file, \"virus\")\n",
    "                kmer_size = 3\n",
    "                PSE_WEIGHT = 0.05\n",
    "                LAM = 3\n",
    "                PSEAAC = True\n",
    "                PHYSICOCHEM = True\n",
    "\n",
    "                # make kmer features \n",
    "                features = Feature(gta_profs.profiles+viral_profs.profiles)\n",
    "                features.make_kmer_dict(kmer_size);\n",
    "                features.kmer_feat()\n",
    "\n",
    "                # make pseudo amino acid composition features \n",
    "                if PSEAAC:\n",
    "                    print(len(features.profiles[1].features), \"\\n\")\n",
    "                    features.pseaac(lam=LAM, weight=PSE_WEIGHT)\n",
    "    \n",
    "\n",
    "                # make physico-chemical properties features \n",
    "                if PHYSICOCHEM:\n",
    "                    features.physicochem()\n",
    "                    \n",
    "                num_to_label_dict = {-1:\"GTA\", 1:\"virus\"}\n",
    "                label_to_num_dict = {v:k for k,v in iteritems(num_to_label_dict)}\n",
    "                xs, ys = [], []\n",
    "                profiles = gta_profs.profiles + viral_profs.profiles\n",
    "                for i, profile in enumerate(profiles):\n",
    "                    xs.append(profile.features)\n",
    "                    ys.append(label_to_num_dict[profile.label])\n",
    "                Xtrain = np.array(xs)\n",
    "                Ytrain = np.array(ys).astype(Xtrain.dtype)\n",
    "                #print(Xtrain.shape, Ytrain.shape)\n",
    "                \n",
    "                \n",
    "\n",
    "                test_profs = Loader.load(out_faa)\n",
    "                features.kmer_feat(test_profs)\n",
    "                if PSEAAC:\n",
    "                    features.pseaac(lam=LAM, weight=PSE_WEIGHT, profiles=test_profs)\n",
    "                if PHYSICOCHEM:\n",
    "                    features.physicochem(profiles=test_profs)\n",
    "                    \n",
    "                xs = []\n",
    "                for profile in test_profs:\n",
    "                    xs.append(profile.features)\n",
    "                Xtest = np.array(xs)\n",
    "                #print(Xtest.shape)\n",
    "                \n",
    "                linear_sv_clf = SVC(C=10000, kernel='linear')\n",
    "                linear_sv_clf.fit(Xtrain, Ytrain);\n",
    "\n",
    "                # SV classifier with RBF kernel \n",
    "                rbf_sv_clf = SVC(C=10000, kernel='rbf')\n",
    "                rbf_sv_clf.fit(Xtrain, Ytrain);\n",
    "                #print(\"THE SVM CLASSIFIER PREDICTS:\", [num_to_label_dict[i] for i in linear_sv_clf.predict(Xtest)])\n",
    "                results_handle.write(\"THE SVM CLASSIFIER PREDICTS:\"+str([num_to_label_dict[i] for i in linear_sv_clf.predict(Xtest)])+\"\\n\")\n",
    "                \n",
    "                #Random Forest Classifier\n",
    "                RFClassifier = RandomForestClassifier(max_features=18, n_estimators=50, class_weight='balanced')\n",
    "                RFClassifier.fit(Xtrain, Ytrain)\n",
    "                RFClassifier.predict(Xtest)\n",
    "                #print(\"THE RANDOM FOREST CLASSIFIER PREDICTS:\",[num_to_label_dict[i] for i in RFClassifier.predict(Xtest)])\n",
    "                results_handle.write(\"THE RANDOM FOREST CLASSIFIER PREDICTS:\"+str([num_to_label_dict[i] for i in RFClassifier.predict(Xtest)])+\"\\n\")\n",
    "\n",
    "            results_handle.close()\n",
    "            #close original query file and GTA_Hunter results file\n",
    "            results_handle = open(results_file)\n",
    "            lines = results_handle.readlines()\n",
    "\n",
    "            #update the list of sequences that did not have a GTA homolog\n",
    "            for line in lines:\n",
    "                words = line.split()\n",
    "                if words[0] != \"Gene\":\n",
    "                    if words[0][1:] in no_hit_list:\n",
    "                        no_hit_list.remove(words[0][1:])\n",
    "            results_handle.close()            \n",
    "                \n",
    "                \n",
    "    else:\n",
    "        #if the blast.out file is empty\n",
    "        print(\"Sorry, no GTA homologs were found\")\n",
    "\n",
    "    #write out a list of gene IDs of genes that were not homologs to any GTA gene \n",
    "    no_hit_file = out_dir+ \"/no_homologs\" +queryname+\".txt\"\n",
    "    no_hit_handle = open(no_hit_file,'w')\n",
    "    for nohit in no_hit_list:\n",
    "        no_hit_handle.write(nohit + '\\n')\n",
    "    no_hit_handle.close()\n",
    "\n"
   ]
  },
  {
   "cell_type": "code",
   "execution_count": null,
   "metadata": {
    "scrolled": true
   },
   "outputs": [],
   "source": [
    "run_wrapper(\"Citro_Eryth\",\"NZ_WTZA01000001.faa\", \"Citro_Eryth/Results\")"
   ]
  },
  {
   "cell_type": "code",
   "execution_count": null,
   "metadata": {},
   "outputs": [],
   "source": [
    "Citro_Eryth=\"/Users/alexandrawalling/Dropbox (AMNH)/ML_Project/GTA-Hunter-v1-master-2/Citro_Eryth\"\n",
    "\n",
    "for file in os.listdir(Citro_Eryth):\n",
    "    print(file)\n",
    "    run_wrapper(Citro_Eryth, file, \"Citro_Eryth/Results\")"
   ]
  },
  {
   "cell_type": "code",
   "execution_count": null,
   "metadata": {},
   "outputs": [],
   "source": [
    "Alphaproteobacteria = \"/Users/alexandrawalling/Dropbox (AMNH)/ML_Project/GTA-Hunter-v1-master-2/ncbi-genomes-2021-05-18\"\n",
    "\n",
    "\n",
    "for file in os.listdir(Alphaproteobacteria):\n",
    "    run_wrapper(Alphaproteobacteria, file, \"/Users/alexandrawalling/Dropbox (AMNH)/ML_Project/GTA-Hunter-v1-master-2/ncbi-genomes-2021-05-18/Results\")"
   ]
  },
  {
   "cell_type": "code",
   "execution_count": null,
   "metadata": {},
   "outputs": [],
   "source": []
  }
 ],
 "metadata": {
  "kernelspec": {
   "display_name": "Python 3",
   "language": "python",
   "name": "python3"
  },
  "language_info": {
   "codemirror_mode": {
    "name": "ipython",
    "version": 3
   },
   "file_extension": ".py",
   "mimetype": "text/x-python",
   "name": "python",
   "nbconvert_exporter": "python",
   "pygments_lexer": "ipython3",
   "version": "3.7.9"
  }
 },
 "nbformat": 4,
 "nbformat_minor": 4
}
